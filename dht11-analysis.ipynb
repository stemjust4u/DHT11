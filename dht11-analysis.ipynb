{
 "cells": [
  {
   "cell_type": "code",
   "execution_count": 1,
   "id": "29d1393e-620a-4a2d-827b-85c69c96272f",
   "metadata": {
    "tags": []
   },
   "outputs": [
    {
     "ename": "ModuleNotFoundError",
     "evalue": "No module named 'influxdb_client'",
     "output_type": "error",
     "traceback": [
      "\u001b[1;31m---------------------------------------------------------------------------\u001b[0m",
      "\u001b[1;31mModuleNotFoundError\u001b[0m                       Traceback (most recent call last)",
      "Cell \u001b[1;32mIn[1], line 2\u001b[0m\n\u001b[0;32m      1\u001b[0m \u001b[38;5;28;01mimport\u001b[39;00m \u001b[38;5;21;01mpandas\u001b[39;00m \u001b[38;5;28;01mas\u001b[39;00m \u001b[38;5;21;01mpd\u001b[39;00m\n\u001b[1;32m----> 2\u001b[0m \u001b[38;5;28;01mfrom\u001b[39;00m \u001b[38;5;21;01minfluxdb_client\u001b[39;00m \u001b[38;5;28;01mimport\u001b[39;00m InfluxDBClient\n\u001b[0;32m      3\u001b[0m \u001b[38;5;28;01mimport\u001b[39;00m \u001b[38;5;21;01mseaborn\u001b[39;00m \u001b[38;5;28;01mas\u001b[39;00m \u001b[38;5;21;01msns\u001b[39;00m\n\u001b[0;32m      4\u001b[0m \u001b[38;5;28;01mimport\u001b[39;00m \u001b[38;5;21;01mmatplotlib\u001b[39;00m\u001b[38;5;21;01m.\u001b[39;00m\u001b[38;5;21;01mpyplot\u001b[39;00m \u001b[38;5;28;01mas\u001b[39;00m \u001b[38;5;21;01mplt\u001b[39;00m\n",
      "\u001b[1;31mModuleNotFoundError\u001b[0m: No module named 'influxdb_client'"
     ]
    }
   ],
   "source": [
    "import pandas as pd\n",
    "from influxdb_client import InfluxDBClient\n",
    "import seaborn as sns\n",
    "import matplotlib.pyplot as plt\n",
    "\n",
    "# A few helper functions:\n",
    "from utils import *\n",
    "\n",
    "# To illustrate examples\n",
    "import numpy as np\n",
    "from scipy.stats import mannwhitneyu, normaltest\n",
    "\n",
    "url = 'http://192.168.254.89:8086'\n",
    "token = 'root:root'\n",
    "org = ''\n",
    "bucket = 'esp2nred'\n",
    "\n",
    "with InfluxDBClient(url=url, token=token, org=org) as client:\n",
    "    query_api = client.query_api()\n",
    "    #tables = query_api.query('from(bucket: \"esp2nred\") |> range(start: -7d) |> pivot(rowKey:[\"_time\"], columnKey: [\"_field\"], valueColumn: \"_value\")')\n",
    "    #tables = client.query_api().query(query, org=org)\n",
    "    #for table in tables:\n",
    "    #    for record in table.records:\n",
    "    #        print(record)\n",
    "    # pivot is in the influxdb query\n",
    "    df = pd.DataFrame(client.query_api().query_data_frame('from(bucket: \"esp2nred\") |> range(start: -3d) |> pivot(rowKey:[\"_time\"], columnKey: [\"_field\"], valueColumn: \"_value\")'))\n",
    "df.head()"
   ]
  },
  {
   "cell_type": "code",
   "execution_count": null,
   "id": "2004a409-4e94-4cd8-88be-76afd21d1ead",
   "metadata": {
    "tags": []
   },
   "outputs": [],
   "source": [
    "sns.boxplot(data=df, x='location', y='tempf')"
   ]
  },
  {
   "cell_type": "code",
   "execution_count": null,
   "id": "62fcc45b-ad9d-4fb9-a028-3f3245e96f8c",
   "metadata": {
    "tags": []
   },
   "outputs": [],
   "source": [
    "i = sns.catplot(x=\"location\", y=\"humidityi\", data=df, ci='sd', kind=\"box\")"
   ]
  },
  {
   "cell_type": "code",
   "execution_count": null,
   "id": "b6d4e5d2-b29b-43f5-859b-2281ec17d584",
   "metadata": {
    "tags": []
   },
   "outputs": [],
   "source": [
    "list(df.location.unique())"
   ]
  },
  {
   "cell_type": "code",
   "execution_count": null,
   "id": "17aeee21-dad7-40e8-8449-503de100ea78",
   "metadata": {
    "tags": []
   },
   "outputs": [],
   "source": [
    "loc = df.loc[(df.location=='4'), :]\n",
    "print_n_projects(loc, '4')\n",
    "#print_projects_by(loc, 'device', 'count')"
   ]
  },
  {
   "cell_type": "code",
   "execution_count": null,
   "id": "17d36470-4f92-4837-82b3-c0944a52fc51",
   "metadata": {
    "tags": []
   },
   "outputs": [],
   "source": [
    "df.describe() "
   ]
  },
  {
   "cell_type": "code",
   "execution_count": null,
   "id": "070af818-fbd8-49f4-9a31-757965fe6d7e",
   "metadata": {
    "tags": []
   },
   "outputs": [],
   "source": [
    "df.groupby('location')['tempf'].describe()"
   ]
  },
  {
   "cell_type": "code",
   "execution_count": null,
   "id": "957c7135-b09a-49c9-b423-e888dfeced6f",
   "metadata": {
    "tags": []
   },
   "outputs": [],
   "source": [
    "with pd.option_context('display.max_rows', None, 'display.max_columns', None):  # more options can be specified also\n",
    "    display(df)"
   ]
  },
  {
   "cell_type": "code",
   "execution_count": null,
   "id": "932de79a-2366-4957-acd9-8bc5f13312bf",
   "metadata": {
    "tags": []
   },
   "outputs": [],
   "source": [
    "dfHist = df[['humidityi', 'tempf']]\n",
    "#dfHist.head()\n",
    "#dftest = pd.pivot_table(dfHist, values = 'humidityi', index=['_time'], columns = 'location').reset_index()\n",
    "#display(dftest)"
   ]
  },
  {
   "cell_type": "code",
   "execution_count": null,
   "id": "6025ce39-357b-4745-b9ee-c72f00c7c0c1",
   "metadata": {
    "tags": []
   },
   "outputs": [],
   "source": [
    "fig, axes = plt.subplots(2,5, figsize=(15, 5))\n",
    "ax = axes.flatten()\n",
    "\n",
    "for i, col in enumerate(dfHist.columns):\n",
    "    sns.histplot(dfHist[col], ax=ax[i]) # histogram call\n",
    "    ax[i].set_title(col)\n",
    "    # remove scientific notation for both axes\n",
    "    ax[i].ticklabel_format(style='plain', axis='both')\n",
    "\n",
    "fig.tight_layout(w_pad=6, h_pad=4) # change padding \n",
    "plt.show()\n"
   ]
  },
  {
   "cell_type": "code",
   "execution_count": null,
   "id": "e7722e8a-cf23-4d52-a3be-31266c92a467",
   "metadata": {},
   "outputs": [],
   "source": []
  }
 ],
 "metadata": {
  "kernelspec": {
   "display_name": "Python 3 (ipykernel)",
   "language": "python",
   "name": "python3"
  },
  "language_info": {
   "codemirror_mode": {
    "name": "ipython",
    "version": 3
   },
   "file_extension": ".py",
   "mimetype": "text/x-python",
   "name": "python",
   "nbconvert_exporter": "python",
   "pygments_lexer": "ipython3",
   "version": "3.11.4"
  }
 },
 "nbformat": 4,
 "nbformat_minor": 5
}
